{
 "cells": [
  {
   "cell_type": "code",
   "execution_count": null,
   "id": "615115c3-0ec3-4c53-a29f-634fc26acd6a",
   "metadata": {},
   "outputs": [],
   "source": [
    "# Game: Rock paper scissors\n",
    "# A function to play rock paper scissors with computer\n",
    "# Requirements:\n",
    "# - rules: paper > rock, rock > scissors, etc.\n",
    "# - computer randomly choose one\n",
    "# - player input one\n",
    "# - get result from rule, win / lose / draw\n",
    "# - if draw, not count 1 round, play that round again\n",
    "# - play 3 rounds for each game, who win 2 round win the game"
   ]
  },
  {
   "cell_type": "code",
   "execution_count": null,
   "id": "04261d62-9e21-4e48-9352-af6283ba99dc",
   "metadata": {},
   "outputs": [],
   "source": [
    "# computer choose randomly\n",
    "\n",
    "# user input\n",
    "\n",
    "# check who wins that round\n",
    "\n",
    "# loop 3 rounds\n",
    "# -> if draw, repeat that round / do not count that round\n",
    "\n",
    "# count number of wins"
   ]
  },
  {
   "cell_type": "code",
   "execution_count": 39,
   "id": "48dbf7b1-88a4-4e97-9f2d-d395f08c9a76",
   "metadata": {},
   "outputs": [
    {
     "name": "stdout",
     "output_type": "stream",
     "text": [
      "rock\n"
     ]
    }
   ],
   "source": [
    "# computer choose randomly\n",
    "\n",
    "# option 1\n",
    "import random\n",
    "\n",
    "choices = ['rock', 'paper', 'scissors']\n",
    "computer_choice = random.choice(choices)\n",
    "\n",
    "print(computer_choice)"
   ]
  },
  {
   "cell_type": "code",
   "execution_count": 27,
   "id": "8f95f5fd-7b74-4b71-a1be-0d68b278da17",
   "metadata": {},
   "outputs": [
    {
     "name": "stdout",
     "output_type": "stream",
     "text": [
      "2\n"
     ]
    }
   ],
   "source": [
    "# option 2\n",
    "import random\n",
    "choices = [0,1,2]\n",
    "computer_choice = random.choice(choices)\n",
    "\n",
    "print(computer_choice)"
   ]
  },
  {
   "cell_type": "code",
   "execution_count": null,
   "id": "e471c07c-faeb-4bc9-aef6-066acd00ca39",
   "metadata": {},
   "outputs": [],
   "source": []
  },
  {
   "cell_type": "code",
   "execution_count": null,
   "id": "eb508fd7-d196-4e0d-baad-44ece0a2b87e",
   "metadata": {},
   "outputs": [],
   "source": []
  }
 ],
 "metadata": {
  "kernelspec": {
   "display_name": "Python 3 (ipykernel)",
   "language": "python",
   "name": "python3"
  },
  "language_info": {
   "codemirror_mode": {
    "name": "ipython",
    "version": 3
   },
   "file_extension": ".py",
   "mimetype": "text/x-python",
   "name": "python",
   "nbconvert_exporter": "python",
   "pygments_lexer": "ipython3",
   "version": "3.8.13"
  }
 },
 "nbformat": 4,
 "nbformat_minor": 5
}
