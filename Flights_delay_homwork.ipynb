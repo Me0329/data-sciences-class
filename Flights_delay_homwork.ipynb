{
 "cells": [
  {
   "cell_type": "code",
   "execution_count": 1,
   "id": "658fac02-8f5c-4582-afe7-6da472aaa4df",
   "metadata": {},
   "outputs": [],
   "source": [
    "# Average departure delay of each airline per airport\n",
    "\n",
    "# AIRLINE\n",
    "# ORIGIN_AIRPORT\n",
    "# total number of flight (int)\n",
    "# operated rate (not cancelled %)\n",
    "# delay rate (is departure delay %) --> exclude cancelled flight\n",
    "# average delay minutes (departure delay, float) --> exclude non-delay flights"
   ]
  },
  {
   "cell_type": "code",
   "execution_count": 2,
   "id": "2ffe768b-7726-4094-ba10-c9209d85601a",
   "metadata": {},
   "outputs": [],
   "source": [
    "# total number of flight (int)\n",
    "# > groupby, count flight_number\n",
    "\n",
    "# operated rate (not cancelled %)\n",
    "# > number of flights not cancelled / total number of flight\n",
    "# > sum of (operated = 1, cancelled = 0)?\n",
    "\n",
    "# delay rate (is departure delay %) --> exclude cancelled flight\n",
    "# > number of flights delayed / number of flights operated\n",
    "\n",
    "# average delay minutes (departure delay, float) --> exclude non-delay flights\n",
    "# > groupby, mean?\n",
    "# > groupby, sum of delay / number of flights delayed?\n",
    "# need to create new columns to do the sum / count?"
   ]
  },
  {
   "cell_type": "code",
   "execution_count": 3,
   "id": "e8e14fe0-4f5e-40ee-8cc5-5b23c3be943e",
   "metadata": {},
   "outputs": [],
   "source": [
    "import pandas as pd\n",
    "import numpy as np"
   ]
  },
  {
   "cell_type": "code",
   "execution_count": 4,
   "id": "061f711d-80c7-4a2b-88dd-8d3e18951fc7",
   "metadata": {},
   "outputs": [
    {
     "name": "stderr",
     "output_type": "stream",
     "text": [
      "/var/folders/rz/lqt_k1wx511d79yfsc6814700000gn/T/ipykernel_30724/4208662450.py:3: DtypeWarning: Columns (7,8) have mixed types. Specify dtype option on import or set low_memory=False.\n",
      "  df_flights = pd.read_csv('flights.csv')\n"
     ]
    }
   ],
   "source": [
    "df_airports = pd.read_csv('airports.csv')\n",
    "df_airlines = pd.read_csv('airlines.csv')\n",
    "df_flights = pd.read_csv('flights.csv')"
   ]
  },
  {
   "cell_type": "code",
   "execution_count": null,
   "id": "e2f26407-5cab-43a3-b2f2-7d0af753e099",
   "metadata": {},
   "outputs": [],
   "source": [
    "df_flights['airport_info'] = df_flights['AIRLINE'] + df_flights['ORIGIN_AIRPORT'].astype(str)"
   ]
  },
  {
   "cell_type": "code",
   "execution_count": 6,
   "id": "5e87436a-ed74-4c42-a4cf-03595807ed31",
   "metadata": {},
   "outputs": [],
   "source": [
    "df_flights['is_operated'] = df_flights['CANCELLED'].apply(lambda x : 1 if x ==0 else 0)"
   ]
  },
  {
   "cell_type": "code",
   "execution_count": 7,
   "id": "44b70fc7-bca4-4023-af51-ed3d1075192b",
   "metadata": {},
   "outputs": [
    {
     "data": {
      "text/plain": [
       "5819079"
      ]
     },
     "execution_count": 7,
     "metadata": {},
     "output_type": "execute_result"
    }
   ],
   "source": [
    "ttl_flights = df_flights.shape[0]\n",
    "ttl_flights"
   ]
  },
  {
   "cell_type": "code",
   "execution_count": 8,
   "id": "99da770f-4d64-4066-bcde-5bf1ef5ca374",
   "metadata": {},
   "outputs": [
    {
     "data": {
      "text/plain": [
       "5729195"
      ]
     },
     "execution_count": 8,
     "metadata": {},
     "output_type": "execute_result"
    }
   ],
   "source": [
    "ttl_operated_flights = df_flights['is_operated'].sum()\n",
    "ttl_operated_flights"
   ]
  },
  {
   "cell_type": "code",
   "execution_count": 9,
   "id": "be25480d-6260-4289-a7f0-695894b38643",
   "metadata": {},
   "outputs": [
    {
     "data": {
      "text/plain": [
       "0.9845535693878705"
      ]
     },
     "execution_count": 9,
     "metadata": {},
     "output_type": "execute_result"
    }
   ],
   "source": [
    "operated_rate = ttl_operated_flights /ttl_flights\n",
    "operated_rate"
   ]
  },
  {
   "cell_type": "code",
   "execution_count": 25,
   "id": "cc6294e0-ee37-4c49-bd1a-11f026f28058",
   "metadata": {},
   "outputs": [
    {
     "data": {
      "text/plain": [
       "2125618"
      ]
     },
     "execution_count": 25,
     "metadata": {},
     "output_type": "execute_result"
    }
   ],
   "source": [
    "df_flights['delay_flights'] = df_flights['DEPARTURE_DELAY'].apply(lambda x : 1 if x > 0 else 0)\n",
    "delayed_flights = df_flights['delay_flights'].sum()\n",
    "delayed_flights"
   ]
  },
  {
   "cell_type": "code",
   "execution_count": 11,
   "id": "b2611c24-aa45-4910-8ea4-29bf18de80d5",
   "metadata": {},
   "outputs": [
    {
     "data": {
      "text/plain": [
       "0.3710151251615628"
      ]
     },
     "execution_count": 11,
     "metadata": {},
     "output_type": "execute_result"
    }
   ],
   "source": [
    "delay_rate = delayed_flights / ttl_operated_flights\n",
    "delay_rate"
   ]
  },
  {
   "cell_type": "code",
   "execution_count": 35,
   "id": "0a72dd0a-43d1-4096-ad07-ee3fadaadc6e",
   "metadata": {},
   "outputs": [
    {
     "data": {
      "text/html": [
       "<div>\n",
       "<style scoped>\n",
       "    .dataframe tbody tr th:only-of-type {\n",
       "        vertical-align: middle;\n",
       "    }\n",
       "\n",
       "    .dataframe tbody tr th {\n",
       "        vertical-align: top;\n",
       "    }\n",
       "\n",
       "    .dataframe thead th {\n",
       "        text-align: right;\n",
       "    }\n",
       "</style>\n",
       "<table border=\"1\" class=\"dataframe\">\n",
       "  <thead>\n",
       "    <tr style=\"text-align: right;\">\n",
       "      <th></th>\n",
       "      <th>DEPARTURE_DELAY</th>\n",
       "    </tr>\n",
       "    <tr>\n",
       "      <th>delay_flights</th>\n",
       "      <th></th>\n",
       "    </tr>\n",
       "  </thead>\n",
       "  <tbody>\n",
       "    <tr>\n",
       "      <th>0</th>\n",
       "      <td>-4.361038</td>\n",
       "    </tr>\n",
       "    <tr>\n",
       "      <th>1</th>\n",
       "      <td>32.672865</td>\n",
       "    </tr>\n",
       "  </tbody>\n",
       "</table>\n",
       "</div>"
      ],
      "text/plain": [
       "               DEPARTURE_DELAY\n",
       "delay_flights                 \n",
       "0                    -4.361038\n",
       "1                    32.672865"
      ]
     },
     "execution_count": 35,
     "metadata": {},
     "output_type": "execute_result"
    }
   ],
   "source": [
    "average_delay = df_flights.groupby ('delay_flights').agg({'DEPARTURE_DELAY':'mean'})\n",
    "average_delay"
   ]
  },
  {
   "cell_type": "code",
   "execution_count": null,
   "id": "899fccff-a976-4df1-a529-69129b960a29",
   "metadata": {},
   "outputs": [],
   "source": [
    "# average delay minutes (departure delay, float) --> exclude non-delay flights\n",
    "# > groupby, mean?\n",
    "# > groupby, sum of delay / number of flights delayed?\n",
    "# need to create new columns to do the sum / count?"
   ]
  },
  {
   "cell_type": "code",
   "execution_count": 28,
   "id": "c297bde4-cae5-44ee-95af-e064226260b3",
   "metadata": {},
   "outputs": [
    {
     "data": {
      "text/html": [
       "<div>\n",
       "<style scoped>\n",
       "    .dataframe tbody tr th:only-of-type {\n",
       "        vertical-align: middle;\n",
       "    }\n",
       "\n",
       "    .dataframe tbody tr th {\n",
       "        vertical-align: top;\n",
       "    }\n",
       "\n",
       "    .dataframe thead th {\n",
       "        text-align: right;\n",
       "    }\n",
       "</style>\n",
       "<table border=\"1\" class=\"dataframe\">\n",
       "  <thead>\n",
       "    <tr style=\"text-align: right;\">\n",
       "      <th></th>\n",
       "      <th>delay_flights</th>\n",
       "      <th>DEPARTURE_DELAY</th>\n",
       "    </tr>\n",
       "    <tr>\n",
       "      <th>delay_flights</th>\n",
       "      <th></th>\n",
       "      <th></th>\n",
       "    </tr>\n",
       "  </thead>\n",
       "  <tbody>\n",
       "    <tr>\n",
       "      <th>0</th>\n",
       "      <td>3693461</td>\n",
       "      <td>-4.361038</td>\n",
       "    </tr>\n",
       "    <tr>\n",
       "      <th>1</th>\n",
       "      <td>2125618</td>\n",
       "      <td>32.672865</td>\n",
       "    </tr>\n",
       "  </tbody>\n",
       "</table>\n",
       "</div>"
      ],
      "text/plain": [
       "               delay_flights  DEPARTURE_DELAY\n",
       "delay_flights                                \n",
       "0                    3693461        -4.361038\n",
       "1                    2125618        32.672865"
      ]
     },
     "execution_count": 28,
     "metadata": {},
     "output_type": "execute_result"
    }
   ],
   "source": [
    "average = df_flights.groupby('delay_flights').agg({'delay_flights':'count',\n",
    "                                                'DEPARTURE_DELAY':'mean'  })\n",
    "average"
   ]
  },
  {
   "cell_type": "code",
   "execution_count": 29,
   "id": "da619907-0b02-4a6f-a903-d36df0572e62",
   "metadata": {},
   "outputs": [
    {
     "data": {
      "text/html": [
       "<div>\n",
       "<style scoped>\n",
       "    .dataframe tbody tr th:only-of-type {\n",
       "        vertical-align: middle;\n",
       "    }\n",
       "\n",
       "    .dataframe tbody tr th {\n",
       "        vertical-align: top;\n",
       "    }\n",
       "\n",
       "    .dataframe thead th {\n",
       "        text-align: right;\n",
       "    }\n",
       "</style>\n",
       "<table border=\"1\" class=\"dataframe\">\n",
       "  <thead>\n",
       "    <tr style=\"text-align: right;\">\n",
       "      <th></th>\n",
       "      <th>delay_flights</th>\n",
       "      <th>DEPARTURE_DELAY</th>\n",
       "    </tr>\n",
       "    <tr>\n",
       "      <th>airport_info</th>\n",
       "      <th></th>\n",
       "      <th></th>\n",
       "    </tr>\n",
       "  </thead>\n",
       "  <tbody>\n",
       "    <tr>\n",
       "      <th>AA10140</th>\n",
       "      <td>185</td>\n",
       "      <td>9.890110</td>\n",
       "    </tr>\n",
       "    <tr>\n",
       "      <th>AA10257</th>\n",
       "      <td>85</td>\n",
       "      <td>1.564706</td>\n",
       "    </tr>\n",
       "    <tr>\n",
       "      <th>AA10299</th>\n",
       "      <td>34</td>\n",
       "      <td>-0.794118</td>\n",
       "    </tr>\n",
       "    <tr>\n",
       "      <th>AA10397</th>\n",
       "      <td>975</td>\n",
       "      <td>3.086867</td>\n",
       "    </tr>\n",
       "    <tr>\n",
       "      <th>AA10423</th>\n",
       "      <td>834</td>\n",
       "      <td>6.285535</td>\n",
       "    </tr>\n",
       "    <tr>\n",
       "      <th>...</th>\n",
       "      <td>...</td>\n",
       "      <td>...</td>\n",
       "    </tr>\n",
       "    <tr>\n",
       "      <th>WNSNA</th>\n",
       "      <td>17197</td>\n",
       "      <td>8.297608</td>\n",
       "    </tr>\n",
       "    <tr>\n",
       "      <th>WNSTL</th>\n",
       "      <td>27753</td>\n",
       "      <td>10.886391</td>\n",
       "    </tr>\n",
       "    <tr>\n",
       "      <th>WNTPA</th>\n",
       "      <td>25888</td>\n",
       "      <td>10.389136</td>\n",
       "    </tr>\n",
       "    <tr>\n",
       "      <th>WNTUL</th>\n",
       "      <td>4098</td>\n",
       "      <td>9.137414</td>\n",
       "    </tr>\n",
       "    <tr>\n",
       "      <th>WNTUS</th>\n",
       "      <td>4201</td>\n",
       "      <td>7.430416</td>\n",
       "    </tr>\n",
       "  </tbody>\n",
       "</table>\n",
       "<p>2386 rows × 2 columns</p>\n",
       "</div>"
      ],
      "text/plain": [
       "              delay_flights  DEPARTURE_DELAY\n",
       "airport_info                                \n",
       "AA10140                 185         9.890110\n",
       "AA10257                  85         1.564706\n",
       "AA10299                  34        -0.794118\n",
       "AA10397                 975         3.086867\n",
       "AA10423                 834         6.285535\n",
       "...                     ...              ...\n",
       "WNSNA                 17197         8.297608\n",
       "WNSTL                 27753        10.886391\n",
       "WNTPA                 25888        10.389136\n",
       "WNTUL                  4098         9.137414\n",
       "WNTUS                  4201         7.430416\n",
       "\n",
       "[2386 rows x 2 columns]"
      ]
     },
     "execution_count": 29,
     "metadata": {},
     "output_type": "execute_result"
    }
   ],
   "source": [
    "average_delay_flights= df_flights.groupby('airport_info').agg({'delay_flights':'count',\n",
    "                                                'DEPARTURE_DELAY':'mean'  })\n",
    "average_delay_flights"
   ]
  }
 ],
 "metadata": {
  "kernelspec": {
   "display_name": "Python 3 (ipykernel)",
   "language": "python",
   "name": "python3"
  },
  "language_info": {
   "codemirror_mode": {
    "name": "ipython",
    "version": 3
   },
   "file_extension": ".py",
   "mimetype": "text/x-python",
   "name": "python",
   "nbconvert_exporter": "python",
   "pygments_lexer": "ipython3",
   "version": "3.10.9"
  }
 },
 "nbformat": 4,
 "nbformat_minor": 5
}
