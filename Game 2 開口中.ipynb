{
 "cells": [
  {
   "cell_type": "code",
   "execution_count": null,
   "id": "dc5c1764-1a8d-41e4-b121-eba7533885c8",
   "metadata": {},
   "outputs": [],
   "source": [
    "Game 2 開口中"
   ]
  },
  {
   "cell_type": "code",
   "execution_count": null,
   "id": "ff9afa2e-01c9-4d69-a7a3-26346fcae2ef",
   "metadata": {},
   "outputs": [],
   "source": [
    "# Range: 1 - 99 (inclusive)\n",
    "# system generate an answer -> random number\n",
    "# user input 1 number, check if the number within range\n",
    "# check input match answer or not\n",
    "# if yes then it's finished\n",
    "# if not, Range update with input number, e.g. input 45, from 1-99 to 1-45\n",
    "# set a limit: how many times in maximum can a user guess"
   ]
  },
  {
   "cell_type": "code",
   "execution_count": 51,
   "id": "078f22e4-ca76-488b-ab70-83a09ba71641",
   "metadata": {},
   "outputs": [
    {
     "name": "stdin",
     "output_type": "stream",
     "text": [
      "Please entre a number, your num:  80\n"
     ]
    },
    {
     "name": "stdout",
     "output_type": "stream",
     "text": [
      "You still have 5 chances left\n",
      "The number between 1 and 80\n"
     ]
    },
    {
     "name": "stdin",
     "output_type": "stream",
     "text": [
      "Please entre a number, your num:  59\n"
     ]
    },
    {
     "name": "stdout",
     "output_type": "stream",
     "text": [
      "You still have 4 chances left\n",
      "The number between 1 and 59\n"
     ]
    },
    {
     "name": "stdin",
     "output_type": "stream",
     "text": [
      "Please entre a number, your num:  43\n"
     ]
    },
    {
     "name": "stdout",
     "output_type": "stream",
     "text": [
      "You still have 3 chances left\n",
      "The number between 1 and 43\n"
     ]
    },
    {
     "name": "stdin",
     "output_type": "stream",
     "text": [
      "Please entre a number, your num:  32\n"
     ]
    },
    {
     "name": "stdout",
     "output_type": "stream",
     "text": [
      "You still have 2 chances left\n",
      "The number between 32 and 43\n"
     ]
    },
    {
     "name": "stdin",
     "output_type": "stream",
     "text": [
      "Please entre a number, your num:  38\n"
     ]
    },
    {
     "name": "stdout",
     "output_type": "stream",
     "text": [
      "You still have 1 chances left\n",
      "The number between 32 and 38\n"
     ]
    },
    {
     "name": "stdin",
     "output_type": "stream",
     "text": [
      "Please entre a number, your num:  36\n"
     ]
    },
    {
     "name": "stdout",
     "output_type": "stream",
     "text": [
      "You still have 0 chances left\n",
      "The number between 36 and 38\n",
      "Game Over\n",
      "37\n"
     ]
    }
   ],
   "source": [
    "import random\n",
    "\n",
    "user_guess = 0\n",
    "max_num = 99\n",
    "min_num = 1\n",
    "chance = 6\n",
    "\n",
    "computer_choice = random.randrange(1,100)\n",
    "\n",
    "\n",
    "while user_guess != computer_choice:\n",
    "    user_guess = int(input('Please entre a number, your num: '))\n",
    "    chance -=1\n",
    "    print('You still have', chance, 'chances left')\n",
    "    if user_guess > computer_choice:\n",
    "        max_num = user_guess\n",
    "        print(\"The number between\", min_num, 'and', max_num)\n",
    "    elif user_guess <= computer_choice:\n",
    "        min_num = user_guess\n",
    "        print(\"The number between\", min_num,'and', max_num)\n",
    "    if chance == 0:\n",
    "            print ('Game Over')\n",
    "            print(computer_choice)\n",
    "            break\n",
    "else:\n",
    "        print('You Win')\n",
    "        print(computer_choice)"
   ]
  }
 ],
 "metadata": {
  "kernelspec": {
   "display_name": "Python 3 (ipykernel)",
   "language": "python",
   "name": "python3"
  },
  "language_info": {
   "codemirror_mode": {
    "name": "ipython",
    "version": 3
   },
   "file_extension": ".py",
   "mimetype": "text/x-python",
   "name": "python",
   "nbconvert_exporter": "python",
   "pygments_lexer": "ipython3",
   "version": "3.10.9"
  }
 },
 "nbformat": 4,
 "nbformat_minor": 5
}
