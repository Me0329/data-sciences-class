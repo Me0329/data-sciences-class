{
 "cells": [
  {
   "cell_type": "code",
   "execution_count": null,
   "id": "7974bdd7-5d92-4c80-8a74-22b905d0b69b",
   "metadata": {},
   "outputs": [],
   "source": [
    "#Exercise 1"
   ]
  },
  {
   "cell_type": "code",
   "execution_count": 6,
   "id": "872292f7-abfc-40f9-abc9-f5b6a8d907db",
   "metadata": {},
   "outputs": [
    {
     "name": "stdout",
     "output_type": "stream",
     "text": [
      "[1, 6, 8, 4, 7, 9, 10, 15, 16, 18]\n",
      "[6, 8, 4, 10, 16, 18]\n"
     ]
    }
   ],
   "source": [
    "def even_numbers(input_list):\n",
    "    even_list =[]\n",
    "    for i in input_list:\n",
    "        if i%2==0:\n",
    "            even_list.append(i)\n",
    "    return even_list\n",
    "input_list = [1,6,8,4,7,9,10,15,16,18]\n",
    "print(input_list)\n",
    "even_list = even_numbers(input_list)\n",
    "print(even_list)"
   ]
  },
  {
   "cell_type": "code",
   "execution_count": null,
   "id": "c8a72c07-c328-42fb-8653-22233892b7b9",
   "metadata": {},
   "outputs": [],
   "source": [
    "#Exercise 2"
   ]
  },
  {
   "cell_type": "code",
   "execution_count": 3,
   "id": "f9809a5e-82f4-49c9-a337-012b4ed5ba3d",
   "metadata": {},
   "outputs": [
    {
     "name": "stdin",
     "output_type": "stream",
     "text": [
      "please input the word Check\n"
     ]
    },
    {
     "name": "stdout",
     "output_type": "stream",
     "text": [
      "check\n",
      "Is not palindrome\n"
     ]
    },
    {
     "data": {
      "text/plain": [
       "False"
      ]
     },
     "execution_count": 3,
     "metadata": {},
     "output_type": "execute_result"
    }
   ],
   "source": [
    "def check_palindrom (check_word):\n",
    "    check_word = check_word.lower()\n",
    "    print(check_word)\n",
    "    check_word[0]\n",
    "    check_word[-1]\n",
    "    # if check_word[0]== check_word[-1]:\n",
    "    #     print('OK')\n",
    "    # else:\n",
    "    #     print('Not same')\n",
    "        \n",
    "    x = int(len(check_word)/2)\n",
    "    \n",
    "    for i in (range(x)):\n",
    "       if check_word[i] != check_word[-1-i]: #-1-i =-1-(i/2)\n",
    "           print(\"Is not palindrome\")\n",
    "           return False\n",
    "    return True\n",
    "    #print(\"Is palindrome\")\n",
    "\n",
    "    \n",
    "check_word = input('please input the word')\n",
    "\n",
    "check_palindrom(check_word)"
   ]
  },
  {
   "cell_type": "code",
   "execution_count": null,
   "id": "fceba3bd-1713-4e23-9fcb-5f06d8397141",
   "metadata": {},
   "outputs": [],
   "source": [
    "# Exercise 3"
   ]
  },
  {
   "cell_type": "code",
   "execution_count": null,
   "id": "5be7b81f-a47d-4aff-981f-c2ad9d8ee0c0",
   "metadata": {},
   "outputs": [],
   "source": [
    "def check_duplicate(list1):\n",
    "    import string\n",
    "    x = string.punctuation\n",
    "    \n",
    "    list1=list1.lower()\n",
    "    new_list=''\n",
    "    for i in list1:\n",
    "        if i not in x:\n",
    "            new_list = new_list+i\n",
    "    split_list = new_list.split()\n",
    "    new_list=set(split_list)\n",
    "    return new_list\n",
    "        \n",
    "    \n",
    "list1=input('please input a list of elements')\n",
    "check_duplicate(list1)"
   ]
  },
  {
   "cell_type": "code",
   "execution_count": null,
   "id": "2b387b12-8b43-4378-8c55-1cd90c3ad05a",
   "metadata": {},
   "outputs": [],
   "source": [
    "# Exercise 4"
   ]
  },
  {
   "cell_type": "code",
   "execution_count": 7,
   "id": "03b773ea-2fa8-43c2-8003-6b4ec0c1769d",
   "metadata": {},
   "outputs": [
    {
     "name": "stdout",
     "output_type": "stream",
     "text": [
      "{'betty', 'anna', 'cat', 'sam', 'john', 'debbie'} \n",
      " {'peter', 'cat', 'kelvin', 'kitty', 'sam', 'debbie'}\n"
     ]
    },
    {
     "data": {
      "text/plain": [
       "True"
      ]
     },
     "execution_count": 7,
     "metadata": {},
     "output_type": "execute_result"
    }
   ],
   "source": [
    "def check_common_member(list1, list2):\n",
    "\n",
    "    New_Member1=check_duplicate(list1)\n",
    "    New_Member2=check_duplicate(list2)\n",
    "    print (New_Member1,  '\\n', New_Member2)\n",
    "    for i in New_Member1:\n",
    "        if i in New_Member2:\n",
    "            return True\n",
    "    return False    \n",
    "\n",
    "    \n",
    "Member1 = 'Anna, Betty, Cat, Debbie, John, Sam'\n",
    "Member2 = 'Kitty, Sam, Kelvin, Peter, Debbie, Cat '\n",
    "\n",
    "\n",
    "check_common_member(Member1, Member2)"
   ]
  },
  {
   "cell_type": "code",
   "execution_count": null,
   "id": "86b6247d-ca2c-49b3-b87f-0e08482185e2",
   "metadata": {},
   "outputs": [],
   "source": []
  }
 ],
 "metadata": {
  "kernelspec": {
   "display_name": "Python 3 (ipykernel)",
   "language": "python",
   "name": "python3"
  },
  "language_info": {
   "codemirror_mode": {
    "name": "ipython",
    "version": 3
   },
   "file_extension": ".py",
   "mimetype": "text/x-python",
   "name": "python",
   "nbconvert_exporter": "python",
   "pygments_lexer": "ipython3",
   "version": "3.10.9"
  }
 },
 "nbformat": 4,
 "nbformat_minor": 5
}
