{
 "cells": [
  {
   "cell_type": "code",
   "execution_count": null,
   "id": "9dc448ca-db72-4f23-922e-613b1f60943f",
   "metadata": {},
   "outputs": [],
   "source": [
    "Exercise 1\n",
    "Write a Python program to get the Fibonacci series between 0 to i. i has to be >= 1 and is input by user. The Fibonnaci seqence is a sequence of numbers where the next number in the sequence is the sum of the previous two numbers in the sequence. The sequence looks like this: 1, 1, 2, 3, 5, 8, 13, …\n",
    "\n",
    "Example:\n",
    "\n",
    "Input: 10\n",
    "Output: [1, 1, 2, 3, 5, 8, 13, 21, 34, 55]"
   ]
  },
  {
   "cell_type": "code",
   "execution_count": 2,
   "id": "f50ce14f-57ed-418a-97cb-008bac586b29",
   "metadata": {},
   "outputs": [
    {
     "name": "stdin",
     "output_type": "stream",
     "text": [
      "Please enter a number greater than 0:  9\n"
     ]
    },
    {
     "name": "stdout",
     "output_type": "stream",
     "text": [
      "[1, 2, 3, 5, 8, 13, 21, 34, 55, 89]\n"
     ]
    }
   ],
   "source": [
    "num = int(input('Please enter a number greater than 0: '))\n",
    "seq_list = []\n",
    "a, b = 1, 1\n",
    "\n",
    "if num <= 0:\n",
    "    print('Please enter a number greater than 0.')\n",
    "else:\n",
    "    \n",
    "    for i in range(0, num+1):\n",
    "        a,b= b, a+b\n",
    "        seq_list.append(a)\n",
    "\n",
    "    print(seq_list)"
   ]
  },
  {
   "cell_type": "code",
   "execution_count": null,
   "id": "7cd0616c-989c-4497-a664-305891160a53",
   "metadata": {},
   "outputs": [],
   "source": [
    "Exercise 2¶\n",
    "Write a program which can compute the factorial of a given number. And then write a program to return the series of factorials from 1 to n, given an input of integer n. The results should be printed in a comma-separated sequence on a single line.\n",
    "\n",
    "Example:\n",
    "\n",
    "Input: 8\n",
    "Output: [1, 1, 2, 6, 24, 120, 720, 5040, 40320]"
   ]
  },
  {
   "cell_type": "code",
   "execution_count": 10,
   "id": "6db8c2db-66ce-44cf-b40a-c0b04c5fcd9c",
   "metadata": {},
   "outputs": [
    {
     "name": "stdin",
     "output_type": "stream",
     "text": [
      "Please entre a number 8\n"
     ]
    },
    {
     "name": "stdout",
     "output_type": "stream",
     "text": [
      "[1, 2, 6, 24, 120, 720, 5040, 40320]\n"
     ]
    }
   ],
   "source": [
    "n = int(input('Please entre a number'))\n",
    "factorial = 1\n",
    "factorial_list=[]\n",
    "for i in range(1,n+1):\n",
    "    factorial *= i\n",
    "    factorial_list.append(factorial)\n",
    "    if n <= int(0):\n",
    "        print(\"please entre a number greater than 0: \")\n",
    "        \n",
    "print(factorial_list)\n"
   ]
  },
  {
   "cell_type": "code",
   "execution_count": null,
   "id": "40ac4420-eeea-419e-80c9-daa8c64350fd",
   "metadata": {},
   "outputs": [],
   "source": [
    "### Exercise 3\n",
    "Write a function to find the longest common prefix string amongst an array of strings.\n",
    "\n",
    "If there is no common prefix, return an empty string \"\".\n",
    "\n",
    "Example 1:\n",
    "\n",
    "* Input: [\"flower\",\"flow\",\"flight\"]\n",
    "* Output: \"fl\"\n",
    "\n",
    "Example 2:\n",
    "\n",
    "* Input: [\"dog\",\"racecar\",\"car\"]\n",
    "* Output: \"\""
   ]
  },
  {
   "cell_type": "code",
   "execution_count": 11,
   "id": "91b1c268-75bc-4e5d-bfa8-1954d6329ff1",
   "metadata": {},
   "outputs": [],
   "source": [
    "def longest_common_prefix(str):\n",
    "    length=len(str[0])\n",
    "    for i in range (1, (len(str))):\n",
    "        #print(i)\n",
    "        length = min(length,len(str[i]))\n",
    "        print(length)\n",
    "        while(length > 0 and str[0][0:length] != str[i][0:length]):\n",
    "            length -= 1\n",
    "            if length == 0:\n",
    "                return \" \"\n",
    "    print(str[0][0:length])\n",
    "    return str[0][0:length]"
   ]
  },
  {
   "cell_type": "code",
   "execution_count": null,
   "id": "ba3c75e0-98db-4514-9e6b-7c180b6dadeb",
   "metadata": {},
   "outputs": [],
   "source": [
    "str = [\"flower\",\"flow\",\"flight\"]\n",
    "longest_common_prefix(str)"
   ]
  },
  {
   "cell_type": "code",
   "execution_count": null,
   "id": "6f3cbab1-7473-4603-a1fe-ac8fd89ee92a",
   "metadata": {},
   "outputs": [],
   "source": [
    "str = [\"dog\",\"racecar\",\"car\"]\n",
    "longest_common_prefix(str)"
   ]
  },
  {
   "cell_type": "code",
   "execution_count": null,
   "id": "ab1e79ef-64f0-49ef-940e-bbd803fd3c1c",
   "metadata": {},
   "outputs": [],
   "source": []
  },
  {
   "cell_type": "code",
   "execution_count": null,
   "id": "1682163c-2161-47dc-b2e7-cb4cbf5173ea",
   "metadata": {},
   "outputs": [],
   "source": [
    "### Exercise 4\n",
    "Given a list of numbers, return whether any two sums to k. For example, given [10, 15, 3, 7] and k of 17, return true since 10 + 7 is 17.\n",
    "\n",
    "Bonus: Can you do this in one pass?"
   ]
  },
  {
   "cell_type": "code",
   "execution_count": null,
   "id": "15e9cbbc-a57b-4f84-b17a-122085829534",
   "metadata": {},
   "outputs": [],
   "source": [
    "def ex4(input_list, k):\n",
    "    for i in range (len(l)):\n",
    "        for j in range (i, len(l)):\n",
    "            if i != j and (input_list[i] + input_list[j])== k:\n",
    "                return True\n",
    "    return False"
   ]
  },
  {
   "cell_type": "code",
   "execution_count": null,
   "id": "bf6742e7-80bd-420b-aa4a-848c9f55e5aa",
   "metadata": {},
   "outputs": [],
   "source": [
    "l=[10, 15, 3, 7]\n",
    "k=17\n",
    "ex4(l,k)"
   ]
  },
  {
   "cell_type": "code",
   "execution_count": null,
   "id": "a4988bf9-7a52-4999-95cb-91d084ef7dd0",
   "metadata": {},
   "outputs": [],
   "source": [
    "Game 2 開口中"
   ]
  },
  {
   "cell_type": "code",
   "execution_count": null,
   "id": "bf2bcdbd-36a7-4a30-a47f-eb6c6c665d47",
   "metadata": {},
   "outputs": [],
   "source": [
    "# Range: 1 - 99 (inclusive)\n",
    "# system generate an answer -> random number\n",
    "# user input 1 number, check if the number within range\n",
    "# check input match answer or not\n",
    "# if yes then it's finished\n",
    "# if not, Range update with input number, e.g. input 45, from 1-99 to 1-45\n",
    "# set a limit: how many times in maximum can a user guess"
   ]
  },
  {
   "cell_type": "code",
   "execution_count": null,
   "id": "fc8e0564-a9ac-487a-9ccd-28779f84ddea",
   "metadata": {},
   "outputs": [],
   "source": []
  }
 ],
 "metadata": {
  "kernelspec": {
   "display_name": "Python 3 (ipykernel)",
   "language": "python",
   "name": "python3"
  },
  "language_info": {
   "codemirror_mode": {
    "name": "ipython",
    "version": 3
   },
   "file_extension": ".py",
   "mimetype": "text/x-python",
   "name": "python",
   "nbconvert_exporter": "python",
   "pygments_lexer": "ipython3",
   "version": "3.10.9"
  }
 },
 "nbformat": 4,
 "nbformat_minor": 5
}
